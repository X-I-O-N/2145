{
 "cells": [
  {
   "cell_type": "code",
   "execution_count": 1,
   "metadata": {
    "collapsed": false
   },
   "outputs": [
    {
     "name": "stderr",
     "output_type": "stream",
     "text": [
      "C:\\Users\\andym\\Anaconda3\\envs\\py27\\lib\\site-packages\\sklearn\\cross_validation.py:44: DeprecationWarning: This module was deprecated in version 0.18 in favor of the model_selection module into which all the refactored classes and functions are moved. Also note that the interface of the new CV iterators are different from that of this module. This module will be removed in 0.20.\n",
      "  \"This module will be removed in 0.20.\", DeprecationWarning)\n"
     ]
    }
   ],
   "source": [
    "import numpy as np\n",
    "import math\n",
    "from math import log\n",
    "from sklearn import metrics,preprocessing,cross_validation\n",
    "from sklearn.feature_extraction.text import TfidfVectorizer\n",
    "import sklearn.linear_model as lm\n",
    "import pandas as p\n",
    "from time import gmtime, strftime\n",
    "import scipy\n",
    "import sys\n",
    "import sklearn.decomposition\n",
    "from sklearn.metrics import mean_squared_error\n",
    "from string import punctuation\n",
    "from sklearn.neighbors import RadiusNeighborsRegressor, KNeighborsRegressor\n",
    "import time\n",
    "from scipy import sparse\n",
    "from matplotlib import *\n",
    "from itertools import combinations\n",
    "from sklearn.ensemble import GradientBoostingClassifier, RandomForestClassifier, ExtraTreesClassifier\n",
    "import operator\n",
    "from sklearn import svm"
   ]
  },
  {
   "cell_type": "code",
   "execution_count": 2,
   "metadata": {
    "collapsed": false
   },
   "outputs": [],
   "source": [
    "def tied_rank(x):\n",
    "    \"\"\"\n",
    "    This function is by Ben Hamner and taken from https://github.com/benhamner/Metrics/blob/master/Python/ml_metrics/auc.py\n",
    "\n",
    "    Computes the tied rank of elements in x.\n",
    "\n",
    "    This function computes the tied rank of elements in x.\n",
    "\n",
    "    Parameters\n",
    "    ----------\n",
    "    x : list of numbers, numpy array\n",
    "\n",
    "    Returns\n",
    "    -------\n",
    "    score : list of numbers\n",
    "            The tied rank f each element in x\n",
    "\n",
    "    \"\"\"\n",
    "    sorted_x = sorted(zip(x,range(len(x))))\n",
    "    r = [0 for k in x]\n",
    "    cur_val = sorted_x[0][0]\n",
    "    last_rank = 0\n",
    "    for i in range(len(sorted_x)):\n",
    "        if cur_val != sorted_x[i][0]:\n",
    "            cur_val = sorted_x[i][0]\n",
    "            for j in range(last_rank, i): \n",
    "                r[sorted_x[j][1]] = float(last_rank+1+i)/2.0\n",
    "            last_rank = i\n",
    "        if i==len(sorted_x)-1:\n",
    "            for j in range(last_rank, i+1): \n",
    "                r[sorted_x[j][1]] = float(last_rank+i+2)/2.0\n",
    "    return r\n",
    "\n",
    "def auc(actual, posterior):\n",
    "    \"\"\"\n",
    "    This function is by Ben Hamner and taken from https://github.com/benhamner/Metrics/blob/master/Python/ml_metrics/auc.py\n",
    "    \n",
    "    Computes the area under the receiver-operater characteristic (AUC)\n",
    "\n",
    "    This function computes the AUC error metric for binary classification.\n",
    "\n",
    "    Parameters\n",
    "    ----------\n",
    "    actual : list of binary numbers, numpy array\n",
    "             The ground truth value\n",
    "    posterior : same type as actual\n",
    "                Defines a ranking on the binary numbers, from most likely to\n",
    "                be positive to least likely to be positive.\n",
    "\n",
    "    Returns\n",
    "    -------\n",
    "    score : double\n",
    "            The mean squared error between actual and posterior\n",
    "\n",
    "    \"\"\"\n",
    "    r = tied_rank(posterior)\n",
    "    num_positive = len([0 for x in actual if x==1])\n",
    "    num_negative = len(actual)-num_positive\n",
    "    sum_positive = sum([r[i] for i in range(len(r)) if actual[i]==1])\n",
    "    auc = ((sum_positive - num_positive*(num_positive+1)/2.0) /\n",
    "           (num_negative*num_positive))\n",
    "    sys.stdout.write('.')\n",
    "    return auc\n",
    "\n",
    "def auc_scorer(estimator, X, y):\n",
    "    predicted = estimator.predict_proba(X)[:,1]\n",
    "    return auc(y, predicted)\n",
    "       \n",
    "def normalize10day(stocks):\n",
    "    def process_column(i):\n",
    "        if operator.mod(i, 5) == 1:\n",
    "            return stocks[:,i] * 0\n",
    "        if operator.mod(i, 5) == 2:\n",
    "            return stocks[:,i] * 0\n",
    "        if operator.mod(i, 5) == 4:\n",
    "            return stocks[:,i] * 0\n",
    "            #return np.log(stocks[:,i] + 1)\n",
    "        else:\n",
    "            return stocks[:,i] / stocks[:,0]\n",
    "    n = stocks.shape[0]\n",
    "    stocks_dat =  np.array([ process_column(i) for i in range(46)]).transpose()\n",
    "    #stocks_movingavgO9O10 = np.array([int(i > j) for i,j in zip(stocks_dat[:,45], stocks_dat[:,40])]).reshape((n, 1))\n",
    "    #stocks_movingavgC9O10 = np.array([int(i > j) for i,j in zip(stocks_dat[:,45], stocks_dat[:,43])]).reshape((n, 1))\n",
    "    #return np.hstack((stocks_dat, stocks_movingavgO9O10, stocks_movingavgC9O10))\n",
    "    return stocks_dat\n",
    "    "
   ]
  },
  {
   "cell_type": "code",
   "execution_count": null,
   "metadata": {
    "collapsed": false
   },
   "outputs": [],
   "source": []
  },
  {
   "cell_type": "code",
   "execution_count": 3,
   "metadata": {
    "collapsed": false
   },
   "outputs": [
    {
     "name": "stdout",
     "output_type": "stream",
     "text": [
      "loading data..\n",
      "this step done\n"
     ]
    }
   ],
   "source": [
    "print \"loading data..\"\n",
    "train = np.array(p.read_table('./training.csv', sep = \",\"))\n",
    "test = np.array(p.read_table('./test.csv', sep = \",\"))\n",
    "\n",
    "################################################################################\n",
    "# READ IN THE TEST DATA\n",
    "################################################################################\n",
    "# all data from opening 1 to straight to opening 10\n",
    "X_test_stockdata = normalize10day(test[:,range(2, 48)]) # load in test data\n",
    "X_test_stockindicators = np.vstack((np.identity(94)[:,range(93)] for i in range(25)))\n",
    "\n",
    "#X_test = np.hstack((X_test_stockindicators, X_test_stockdata))\n",
    "X_test = X_test_stockdata\n",
    "\n",
    "#np.identity(94)[:,range(93)]\n",
    "\n",
    "################################################################################\n",
    "# READ IN THE TRAIN DATA\n",
    "################################################################################\n",
    "n_windows = 490\n",
    "windows = range(n_windows)\n",
    "\n",
    "X_windows = [train[:,range(1 + 5*w, 47 + 5*w)] for w in windows]\n",
    "X_windows_normalized = [normalize10day(w) for w in X_windows]\n",
    "X_stockdata = np.vstack(X_windows_normalized)\n",
    "X_stockindicators = np.vstack((np.identity(94)[:,range(93)] for i in range(n_windows)))\n",
    "\n",
    "#X = np.hstack((X_stockindicators, X_stockdata))\n",
    "X = X_stockdata\n",
    "\n",
    "# read in the response variable\n",
    "y_stockdata = np.vstack([train[:, [46 + 5*w, 49 + 5*w]] for w in windows])\n",
    "y = (y_stockdata[:,1] - y_stockdata[:,0] > 0) + 0\n",
    "\n",
    "print \"this step done\""
   ]
  },
  {
   "cell_type": "code",
   "execution_count": 4,
   "metadata": {
    "collapsed": false
   },
   "outputs": [
    {
     "name": "stdout",
     "output_type": "stream",
     "text": [
      "preparing models\n",
      "calculating cv scores\n",
      "..... (1/10) C = 5000.000000: CV = 0.945303\n",
      "..... (2/10) C = 4477.777778: CV = 0.945470\n",
      "..... (3/10) C = 3955.555556: CV = 0.944402\n",
      "..... (4/10) C = 3433.333333: CV = 0.944823\n",
      "..... (5/10) C = 2911.111111: CV = 0.944266\n",
      "..... (6/10) C = 2388.888889: CV = 0.944892\n",
      "..... (7/10) C = 1866.666667: CV = 0.945565\n",
      "..... (8/10) C = 1344.444444: CV = 0.945404\n",
      "..... (9/10) C = 822.222222: CV = 0.945283\n",
      "..... (10/10) C = 300.000000: CV = 0.945564\n",
      "BEST 1866.666667: 0.945565\n",
      "training on full data\n",
      "prediction\n"
     ]
    },
    {
     "ename": "IOError",
     "evalue": "[Errno 22] invalid mode ('w') or filename: './predictions/lasso/lasso 06-11 20:43:48 C-1866.6667 CV-0.9456.csv'",
     "output_type": "error",
     "traceback": [
      "\u001b[0;31m---------------------------------------------------------------------------\u001b[0m",
      "\u001b[0;31mIOError\u001b[0m                                   Traceback (most recent call last)",
      "\u001b[0;32m<ipython-input-4-18c466f7bf7b>\u001b[0m in \u001b[0;36m<module>\u001b[0;34m()\u001b[0m\n\u001b[1;32m     47\u001b[0m \u001b[1;33m\u001b[0m\u001b[0m\n\u001b[1;32m     48\u001b[0m \u001b[0mpred_df\u001b[0m \u001b[1;33m=\u001b[0m \u001b[0mp\u001b[0m\u001b[1;33m.\u001b[0m\u001b[0mDataFrame\u001b[0m\u001b[1;33m(\u001b[0m\u001b[0mnp\u001b[0m\u001b[1;33m.\u001b[0m\u001b[0mvstack\u001b[0m\u001b[1;33m(\u001b[0m\u001b[1;33m(\u001b[0m\u001b[0mtestindices\u001b[0m\u001b[1;33m,\u001b[0m \u001b[0mpred\u001b[0m\u001b[1;33m)\u001b[0m\u001b[1;33m)\u001b[0m\u001b[1;33m.\u001b[0m\u001b[0mtranspose\u001b[0m\u001b[1;33m(\u001b[0m\u001b[1;33m)\u001b[0m\u001b[1;33m,\u001b[0m \u001b[0mcolumns\u001b[0m\u001b[1;33m=\u001b[0m\u001b[1;33m[\u001b[0m\u001b[1;34m\"Id\"\u001b[0m\u001b[1;33m,\u001b[0m \u001b[1;34m\"Prediction\"\u001b[0m\u001b[1;33m]\u001b[0m\u001b[1;33m)\u001b[0m\u001b[1;33m\u001b[0m\u001b[0m\n\u001b[0;32m---> 49\u001b[0;31m \u001b[0mpred_df\u001b[0m\u001b[1;33m.\u001b[0m\u001b[0mto_csv\u001b[0m\u001b[1;33m(\u001b[0m\u001b[1;34m'./predictions/'\u001b[0m \u001b[1;33m+\u001b[0m \u001b[0mmodelname\u001b[0m \u001b[1;33m+\u001b[0m \u001b[1;34m'/'\u001b[0m \u001b[1;33m+\u001b[0m \u001b[0mmodelname\u001b[0m \u001b[1;33m+\u001b[0m \u001b[1;34m' '\u001b[0m \u001b[1;33m+\u001b[0m \u001b[0mstrftime\u001b[0m\u001b[1;33m(\u001b[0m\u001b[1;34m\"%m-%d %X\"\u001b[0m\u001b[1;33m)\u001b[0m \u001b[1;33m+\u001b[0m \u001b[1;34m\" C-\"\u001b[0m \u001b[1;33m+\u001b[0m \u001b[0mstr\u001b[0m\u001b[1;33m(\u001b[0m\u001b[0mround\u001b[0m\u001b[1;33m(\u001b[0m\u001b[0mbest_C\u001b[0m\u001b[1;33m,\u001b[0m\u001b[1;36m4\u001b[0m\u001b[1;33m)\u001b[0m\u001b[1;33m)\u001b[0m \u001b[1;33m+\u001b[0m \u001b[1;34m\" CV-\"\u001b[0m \u001b[1;33m+\u001b[0m \u001b[0mstr\u001b[0m\u001b[1;33m(\u001b[0m\u001b[0mround\u001b[0m\u001b[1;33m(\u001b[0m\u001b[0mbest_cv\u001b[0m\u001b[1;33m,\u001b[0m \u001b[1;36m4\u001b[0m\u001b[1;33m)\u001b[0m\u001b[1;33m)\u001b[0m \u001b[1;33m+\u001b[0m \u001b[1;34m\".csv\"\u001b[0m\u001b[1;33m,\u001b[0m \u001b[0mindex\u001b[0m \u001b[1;33m=\u001b[0m \u001b[0mFalse\u001b[0m\u001b[1;33m)\u001b[0m\u001b[1;33m\u001b[0m\u001b[0m\n\u001b[0m\u001b[1;32m     50\u001b[0m \u001b[1;33m\u001b[0m\u001b[0m\n\u001b[1;32m     51\u001b[0m \u001b[1;32mprint\u001b[0m \u001b[1;34m\"submission file created\"\u001b[0m\u001b[1;33m\u001b[0m\u001b[0m\n",
      "\u001b[0;32mC:\\Users\\andym\\Anaconda3\\envs\\py27\\lib\\site-packages\\pandas\\core\\frame.pyc\u001b[0m in \u001b[0;36mto_csv\u001b[0;34m(self, path_or_buf, sep, na_rep, float_format, columns, header, index, index_label, mode, encoding, compression, quoting, quotechar, line_terminator, chunksize, tupleize_cols, date_format, doublequote, escapechar, decimal)\u001b[0m\n\u001b[1;32m   1381\u001b[0m                                      \u001b[0mdoublequote\u001b[0m\u001b[1;33m=\u001b[0m\u001b[0mdoublequote\u001b[0m\u001b[1;33m,\u001b[0m\u001b[1;33m\u001b[0m\u001b[0m\n\u001b[1;32m   1382\u001b[0m                                      escapechar=escapechar, decimal=decimal)\n\u001b[0;32m-> 1383\u001b[0;31m         \u001b[0mformatter\u001b[0m\u001b[1;33m.\u001b[0m\u001b[0msave\u001b[0m\u001b[1;33m(\u001b[0m\u001b[1;33m)\u001b[0m\u001b[1;33m\u001b[0m\u001b[0m\n\u001b[0m\u001b[1;32m   1384\u001b[0m \u001b[1;33m\u001b[0m\u001b[0m\n\u001b[1;32m   1385\u001b[0m         \u001b[1;32mif\u001b[0m \u001b[0mpath_or_buf\u001b[0m \u001b[1;32mis\u001b[0m \u001b[0mNone\u001b[0m\u001b[1;33m:\u001b[0m\u001b[1;33m\u001b[0m\u001b[0m\n",
      "\u001b[0;32mC:\\Users\\andym\\Anaconda3\\envs\\py27\\lib\\site-packages\\pandas\\formats\\format.pyc\u001b[0m in \u001b[0;36msave\u001b[0;34m(self)\u001b[0m\n\u001b[1;32m   1458\u001b[0m             f = _get_handle(self.path_or_buf, self.mode,\n\u001b[1;32m   1459\u001b[0m                             \u001b[0mencoding\u001b[0m\u001b[1;33m=\u001b[0m\u001b[0mself\u001b[0m\u001b[1;33m.\u001b[0m\u001b[0mencoding\u001b[0m\u001b[1;33m,\u001b[0m\u001b[1;33m\u001b[0m\u001b[0m\n\u001b[0;32m-> 1460\u001b[0;31m                             compression=self.compression)\n\u001b[0m\u001b[1;32m   1461\u001b[0m             \u001b[0mclose\u001b[0m \u001b[1;33m=\u001b[0m \u001b[0mTrue\u001b[0m\u001b[1;33m\u001b[0m\u001b[0m\n\u001b[1;32m   1462\u001b[0m \u001b[1;33m\u001b[0m\u001b[0m\n",
      "\u001b[0;32mC:\\Users\\andym\\Anaconda3\\envs\\py27\\lib\\site-packages\\pandas\\io\\common.pyc\u001b[0m in \u001b[0;36m_get_handle\u001b[0;34m(path, mode, encoding, compression, memory_map)\u001b[0m\n\u001b[1;32m    332\u001b[0m                 \u001b[0mf\u001b[0m \u001b[1;33m=\u001b[0m \u001b[0mopen\u001b[0m\u001b[1;33m(\u001b[0m\u001b[0mpath\u001b[0m\u001b[1;33m,\u001b[0m \u001b[0mmode\u001b[0m\u001b[1;33m,\u001b[0m \u001b[0merrors\u001b[0m\u001b[1;33m=\u001b[0m\u001b[1;34m'replace'\u001b[0m\u001b[1;33m)\u001b[0m\u001b[1;33m\u001b[0m\u001b[0m\n\u001b[1;32m    333\u001b[0m         \u001b[1;32melse\u001b[0m\u001b[1;33m:\u001b[0m\u001b[1;33m\u001b[0m\u001b[0m\n\u001b[0;32m--> 334\u001b[0;31m             \u001b[0mf\u001b[0m \u001b[1;33m=\u001b[0m \u001b[0mopen\u001b[0m\u001b[1;33m(\u001b[0m\u001b[0mpath\u001b[0m\u001b[1;33m,\u001b[0m \u001b[0mmode\u001b[0m\u001b[1;33m)\u001b[0m\u001b[1;33m\u001b[0m\u001b[0m\n\u001b[0m\u001b[1;32m    335\u001b[0m \u001b[1;33m\u001b[0m\u001b[0m\n\u001b[1;32m    336\u001b[0m     \u001b[1;32mif\u001b[0m \u001b[0mmemory_map\u001b[0m \u001b[1;32mand\u001b[0m \u001b[0mhasattr\u001b[0m\u001b[1;33m(\u001b[0m\u001b[0mf\u001b[0m\u001b[1;33m,\u001b[0m \u001b[1;34m'fileno'\u001b[0m\u001b[1;33m)\u001b[0m\u001b[1;33m:\u001b[0m\u001b[1;33m\u001b[0m\u001b[0m\n",
      "\u001b[0;31mIOError\u001b[0m: [Errno 22] invalid mode ('w') or filename: './predictions/lasso/lasso 06-11 20:43:48 C-1866.6667 CV-0.9456.csv'"
     ]
    }
   ],
   "source": [
    "print \"preparing models\"\n",
    "\n",
    "modelname = \"lasso\"\n",
    "\n",
    "if modelname == \"ridge\": \n",
    "    C = np.linspace(300, 5000, num = 10)[::-1]\n",
    "    models = [lm.LogisticRegression(penalty = \"l2\", C = c) for c in C]\n",
    "\n",
    "if modelname == \"lasso\": \n",
    "    C = np.linspace(300, 5000, num = 10)[::-1]\n",
    "    models = [lm.LogisticRegression(penalty = \"l1\", C = c) for c in C]\n",
    "\n",
    "if modelname == \"sgd\": \n",
    "    C = np.linspace(0.00005, .01, num = 5)\n",
    "    models = [lm.SGDClassifier(loss = \"log\", penalty = \"l2\", alpha = c, warm_start = False) for c in C]\n",
    "    \n",
    "if modelname == \"randomforest\":\n",
    "    C = np.linspace(50, 300, num = 10)\n",
    "    models = [RandomForestClassifier(n_estimators = int(c)) for c in C]\n",
    "\n",
    "print \"calculating cv scores\"\n",
    "cv_scores = [0] * len(models)\n",
    "for i, model in enumerate(models):\n",
    "    # for all of the models, save the cross-validation scores into the array cv_scores\n",
    "    cv_scores[i] = np.mean(cross_validation.cross_val_score(model, X, y, cv=5, scoring = auc_scorer))\n",
    "    #cv_scores[i] = np.mean(cross_validation.cross_val_score(model, X, y, cv=5, score_func = auc))\n",
    "    print \" (%d/%d) C = %f: CV = %f\" % (i + 1, len(C), C[i], cv_scores[i])\n",
    "\n",
    "# find which model and C is the best\n",
    "best = cv_scores.index(max(cv_scores))\n",
    "best_model = models[best]\n",
    "best_cv = cv_scores[best]\n",
    "best_C = C[best]\n",
    "print \"BEST %f: %f\" % (best_C, best_cv)\n",
    "\n",
    "print \"training on full data\"\n",
    "# fit the best model on the full data\n",
    "best_model.fit(X, y)\n",
    "\n",
    "print \"prediction\"\n",
    "# do a prediction and save it\n",
    "pred = best_model.predict_proba(X_test)[:,1]\n",
    "testfile = p.read_csv('./test.csv', sep=\",\", na_values=['?'], index_col=[0,1])\n",
    "\n",
    "# submit as D multiplied by 100 + stock id\n",
    "testindices = [100 * D + StId for (D, StId) in testfile.index]\n",
    "\n",
    "pred_df = p.DataFrame(np.vstack((testindices, pred)).transpose(), columns=[\"Id\", \"Prediction\"])\n",
    "pred_df.to_csv('./predictions/' + modelname + '/' + modelname + ' ' + strftime(\"%m-%d %X\") + \" C-\" + str(round(best_C,4)) + \" CV-\" + str(round(best_cv, 4)) + \".csv\", index = False)\n",
    "\n",
    "print \"submission file created\"\n"
   ]
  },
  {
   "cell_type": "code",
   "execution_count": null,
   "metadata": {
    "collapsed": true
   },
   "outputs": [],
   "source": []
  }
 ],
 "metadata": {
  "kernelspec": {
   "display_name": "Python 2",
   "language": "python",
   "name": "python2"
  },
  "language_info": {
   "codemirror_mode": {
    "name": "ipython",
    "version": 2
   },
   "file_extension": ".py",
   "mimetype": "text/x-python",
   "name": "python",
   "nbconvert_exporter": "python",
   "pygments_lexer": "ipython2",
   "version": "2.7.13"
  }
 },
 "nbformat": 4,
 "nbformat_minor": 0
}
